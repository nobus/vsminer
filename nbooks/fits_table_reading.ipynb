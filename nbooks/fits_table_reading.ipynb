{
 "cells": [
  {
   "cell_type": "code",
   "execution_count": 33,
   "metadata": {},
   "outputs": [],
   "source": [
    "\"\"\"\n",
    "https://docs.astropy.org/en/stable/io/fits/\n",
    "\"\"\"\n",
    "\n",
    "from astropy.io import fits"
   ]
  },
  {
   "cell_type": "code",
   "execution_count": 45,
   "metadata": {},
   "outputs": [],
   "source": [
    "hdu = fits.open('/home/nobus/develop/vsminer/data/3757403/corr.fits', mode='readonly', ignore_missing_end=True)"
   ]
  },
  {
   "cell_type": "code",
   "execution_count": 46,
   "metadata": {},
   "outputs": [
    {
     "name": "stdout",
     "output_type": "stream",
     "text": [
      "Filename: /home/nobus/develop/vsminer/data/3757403/corr.fits\n",
      "No.    Name      Ver    Type      Cards   Dimensions   Format\n",
      "  0  PRIMARY       1 PrimaryHDU       4   ()      \n",
      "  1                1 BinTableHDU     47   60R x 13C   [1D, 1D, 1D, 1D, 1D, 1D, 1D, 1D, 1J, 1J, 1D, 1E, 1E]   \n"
     ]
    }
   ],
   "source": [
    "hdu.info()"
   ]
  },
  {
   "cell_type": "code",
   "execution_count": 48,
   "metadata": {},
   "outputs": [],
   "source": [
    "data = hdu[1].data\n",
    "cols = hdu[1].columns\n",
    "hdu_list.close()"
   ]
  },
  {
   "cell_type": "code",
   "execution_count": 49,
   "metadata": {},
   "outputs": [
    {
     "name": "stdout",
     "output_type": "stream",
     "text": [
      "(568.3975830078125, 1778.6346435546875, 25.914404945336344, 50.687094460689295, 567.4854250452795, 1778.3784303615473, 25.915064185274154, 50.68876470259563, 63, 0, 0.999804323638796, 11927.942, 3112.5693)\n"
     ]
    }
   ],
   "source": [
    "print(data[0])"
   ]
  },
  {
   "cell_type": "code",
   "execution_count": 51,
   "metadata": {},
   "outputs": [
    {
     "name": "stdout",
     "output_type": "stream",
     "text": [
      "ColDefs(\n",
      "    name = 'field_x'; format = '1D'; unit = 'pixels'\n",
      "    name = 'field_y'; format = '1D'; unit = 'pixels'\n",
      "    name = 'field_ra'; format = '1D'; unit = 'degrees'\n",
      "    name = 'field_dec'; format = '1D'; unit = 'degrees'\n",
      "    name = 'index_x'; format = '1D'; unit = 'pixels'\n",
      "    name = 'index_y'; format = '1D'; unit = 'pixels'\n",
      "    name = 'index_ra'; format = '1D'; unit = 'degrees'\n",
      "    name = 'index_dec'; format = '1D'; unit = 'degrees'\n",
      "    name = 'index_id'; format = '1J'; unit = 'none'\n",
      "    name = 'field_id'; format = '1J'; unit = 'none'\n",
      "    name = 'match_weight'; format = '1D'; unit = 'none'\n",
      "    name = 'FLUX'; format = '1E'\n",
      "    name = 'BACKGROUND'; format = '1E'\n",
      ")\n"
     ]
    }
   ],
   "source": [
    "print(cols)"
   ]
  },
  {
   "cell_type": "code",
   "execution_count": 52,
   "metadata": {},
   "outputs": [
    {
     "name": "stdout",
     "output_type": "stream",
     "text": [
      "<bound method ColDefs.info of ColDefs(\n",
      "    name = 'field_x'; format = '1D'; unit = 'pixels'\n",
      "    name = 'field_y'; format = '1D'; unit = 'pixels'\n",
      "    name = 'field_ra'; format = '1D'; unit = 'degrees'\n",
      "    name = 'field_dec'; format = '1D'; unit = 'degrees'\n",
      "    name = 'index_x'; format = '1D'; unit = 'pixels'\n",
      "    name = 'index_y'; format = '1D'; unit = 'pixels'\n",
      "    name = 'index_ra'; format = '1D'; unit = 'degrees'\n",
      "    name = 'index_dec'; format = '1D'; unit = 'degrees'\n",
      "    name = 'index_id'; format = '1J'; unit = 'none'\n",
      "    name = 'field_id'; format = '1J'; unit = 'none'\n",
      "    name = 'match_weight'; format = '1D'; unit = 'none'\n",
      "    name = 'FLUX'; format = '1E'\n",
      "    name = 'BACKGROUND'; format = '1E'\n",
      ")>\n"
     ]
    }
   ],
   "source": [
    "print(cols.info)"
   ]
  },
  {
   "cell_type": "code",
   "execution_count": 53,
   "metadata": {},
   "outputs": [
    {
     "name": "stdout",
     "output_type": "stream",
     "text": [
      "['field_x', 'field_y', 'field_ra', 'field_dec', 'index_x', 'index_y', 'index_ra', 'index_dec', 'index_id', 'field_id', 'match_weight', 'FLUX', 'BACKGROUND']\n"
     ]
    }
   ],
   "source": [
    "print(cols.names)"
   ]
  },
  {
   "cell_type": "code",
   "execution_count": null,
   "metadata": {},
   "outputs": [],
   "source": []
  }
 ],
 "metadata": {
  "kernelspec": {
   "display_name": "Python 3",
   "language": "python",
   "name": "python3"
  },
  "language_info": {
   "codemirror_mode": {
    "name": "ipython",
    "version": 3
   },
   "file_extension": ".py",
   "mimetype": "text/x-python",
   "name": "python",
   "nbconvert_exporter": "python",
   "pygments_lexer": "ipython3",
   "version": "3.7.4"
  }
 },
 "nbformat": 4,
 "nbformat_minor": 2
}
