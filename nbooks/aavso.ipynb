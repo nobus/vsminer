{
 "cells": [
  {
   "cell_type": "code",
   "execution_count": 31,
   "metadata": {},
   "outputs": [],
   "source": [
    "import urllib.parse\n",
    "import requests\n",
    "from bs4 import BeautifulSoup"
   ]
  },
  {
   "cell_type": "code",
   "execution_count": null,
   "metadata": {},
   "outputs": [],
   "source": [
    "\"\"\"\n",
    "https://www.aavso.org/apis-aavso-resources\n",
    "https://www.aavso.org/direct-web-query-vsxvsp\n",
    "\n",
    "https://www.aavso.org/vsx/index.php?view=query.votable&ident=SX+Uma\n",
    "https://www.aavso.org/cgi-bin/apass_download.pl?ra=271.4032917&dec=-44.001&radius=1&outtype=0\n",
    "https://www.aavso.org/vsx/index.php?ident=1SWASP+J022916.91-395901.4&view=api.object&format=json\n",
    "\n",
    "\"\"\""
   ]
  },
  {
   "cell_type": "code",
   "execution_count": 66,
   "metadata": {},
   "outputs": [],
   "source": [
    "# https://www.aavso.org/direct-web-query-vsxvsp\n",
    "# https://www.aavso.org/vsx/index.php?ident=1SWASP+J022916.91-395901.4&view=api.object&format=json\n",
    "\n",
    "url = 'https://www.aavso.org/vsx/index.php?ident=1SWASP+J022916.91-395901.4&view=api.object&format=json'\n",
    "\n",
    "res = requests.get(url)"
   ]
  },
  {
   "cell_type": "code",
   "execution_count": 68,
   "metadata": {},
   "outputs": [
    {
     "data": {
      "text/plain": [
       "'{\"VSXObject\":{\"Name\":\"1SWASP J022916.91-395901.4\",\"AUID\":\"000-BLF-895\",\"RA2000\":\"37.32058\",\"Declination2000\":\"-39.98378\",\"ProperMotionRA\":\"40.5000\",\"ProperMotionDec\":\"4.9000\",\"VariabilityType\":\"NL\\\\/VY\",\"Period\":\"0.137206\",\"Epoch\":\"2454416.48\",\"MaxMag\":\"12.8 V\",\"MinMag\":\"16.7: V\",\"Discoverer\":\"Gregor Srdoc, Klaus Bernhard, Stefan H\\\\u00fcmmerich\",\"Category\":\"Variable\",\"OID\":\"358947\",\"Constellation\":\"Eri\"}}'"
      ]
     },
     "execution_count": 68,
     "metadata": {},
     "output_type": "execute_result"
    }
   ],
   "source": [
    "res.text"
   ]
  },
  {
   "cell_type": "code",
   "execution_count": null,
   "metadata": {},
   "outputs": [],
   "source": [
    "\"\"\"\n",
    "https://www.aavso.org/vsp-api\n",
    "\n",
    "https://www.aavso.org/apps/vsp/api/chart/?star=SS+Cyg&fov=120&maglimit=12\n",
    "\"\"\""
   ]
  }
 ],
 "metadata": {
  "kernelspec": {
   "display_name": "Python 3",
   "language": "python",
   "name": "python3"
  },
  "language_info": {
   "codemirror_mode": {
    "name": "ipython",
    "version": 3
   },
   "file_extension": ".py",
   "mimetype": "text/x-python",
   "name": "python",
   "nbconvert_exporter": "python",
   "pygments_lexer": "ipython3",
   "version": "3.7.4"
  }
 },
 "nbformat": 4,
 "nbformat_minor": 2
}
